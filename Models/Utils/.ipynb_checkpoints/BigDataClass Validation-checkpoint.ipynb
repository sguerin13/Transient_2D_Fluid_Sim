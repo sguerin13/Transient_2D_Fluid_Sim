{
 "cells": [
  {
   "cell_type": "code",
   "execution_count": 37,
   "metadata": {},
   "outputs": [
    {
     "data": {
      "text/plain": [
       "'\\nNotebook to test the workflow for the BigAssDataset Class\\n\\n'"
      ]
     },
     "execution_count": 37,
     "metadata": {},
     "output_type": "execute_result"
    }
   ],
   "source": [
    "'''\n",
    "Notebook to test the workflow for the BigAssDataset Class\n",
    "\n",
    "'''"
   ]
  },
  {
   "cell_type": "code",
   "execution_count": 39,
   "metadata": {},
   "outputs": [],
   "source": [
    "import os \n",
    "import torch\n",
    "from torch.utils.data import Dataset,ConcatDataset\n",
    "import sys\n",
    "import data_utils as du\n",
    "sys.path.append('../')\n",
    "# sys.path.append('/.')\n",
    "import Utils.data_prep as dprep\n",
    "from Modules.BigDataSet import BigAssDataset\n",
    "from torch.utils.data import DataLoader"
   ]
  },
  {
   "cell_type": "code",
   "execution_count": 40,
   "metadata": {},
   "outputs": [
    {
     "data": {
      "text/plain": [
       "'C:\\\\Users\\\\Steve\\\\Documents\\\\UCSD\\\\Graduate\\\\SP20\\\\291\\\\Project\\\\NeuralLBMSolver_Take2\\\\Models\\\\Utils'"
      ]
     },
     "execution_count": 40,
     "metadata": {},
     "output_type": "execute_result"
    }
   ],
   "source": [
    "os.getcwd()"
   ]
  },
  {
   "cell_type": "code",
   "execution_count": 41,
   "metadata": {},
   "outputs": [],
   "source": [
    "data_path = os.getcwd() + '//..//..//..//Data//data//Circle_Trans_30fps//'"
   ]
  },
  {
   "cell_type": "code",
   "execution_count": 42,
   "metadata": {},
   "outputs": [],
   "source": [
    "file_list = os.listdir(data_path)"
   ]
  },
  {
   "cell_type": "code",
   "execution_count": 43,
   "metadata": {},
   "outputs": [],
   "source": [
    "scaler_path = os.getcwd() + '//..//'"
   ]
  },
  {
   "cell_type": "code",
   "execution_count": 46,
   "metadata": {},
   "outputs": [],
   "source": [
    "velo_scaler = du.load_std_scaler(scaler_path + 'Scalers/velo_scaler_circles_5-10-20.pkl')\n",
    "rho_scaler  = du.load_std_scaler(scaler_path + 'Scalers/rho_scaler_circles_5-10-20.pkl')\n",
    "sdf_scaler  = du.load_std_scaler(scaler_path + 'Scalers/sdf_scaler_circles_5-10-20.pkl')\n",
    "Re_scaler  = du.load_std_scaler(scaler_path + 'Scalers/Re_scaler_circles_5-10-20.pkl')"
   ]
  },
  {
   "cell_type": "code",
   "execution_count": 47,
   "metadata": {},
   "outputs": [],
   "source": [
    "scaler_list = [velo_scaler,rho_scaler,sdf_scaler,Re_scaler]"
   ]
  },
  {
   "cell_type": "code",
   "execution_count": 48,
   "metadata": {},
   "outputs": [
    {
     "data": {
      "text/plain": [
       "299"
      ]
     },
     "execution_count": 48,
     "metadata": {},
     "output_type": "execute_result"
    }
   ],
   "source": [
    "int(file_list[0].rsplit('_')[-1].rsplit('.')[0])"
   ]
  },
  {
   "cell_type": "code",
   "execution_count": 49,
   "metadata": {},
   "outputs": [],
   "source": [
    "TestClass = BigAssDataset(path = data_path,scalers = scaler_list)"
   ]
  },
  {
   "cell_type": "code",
   "execution_count": 50,
   "metadata": {},
   "outputs": [
    {
     "data": {
      "text/plain": [
       "669"
      ]
     },
     "execution_count": 50,
     "metadata": {},
     "output_type": "execute_result"
    }
   ],
   "source": [
    "len(TestClass)"
   ]
  },
  {
   "cell_type": "code",
   "execution_count": 51,
   "metadata": {},
   "outputs": [],
   "source": [
    "x = TestClass[0]"
   ]
  },
  {
   "cell_type": "code",
   "execution_count": 52,
   "metadata": {},
   "outputs": [
    {
     "data": {
      "text/plain": [
       "(298, 3, 60, 120)"
      ]
     },
     "execution_count": 52,
     "metadata": {},
     "output_type": "execute_result"
    }
   ],
   "source": [
    "x[3].shape"
   ]
  },
  {
   "cell_type": "code",
   "execution_count": 107,
   "metadata": {},
   "outputs": [],
   "source": [
    "def new_collate(batch):\n",
    "    \n",
    "    x = torch.cat([torch.as_tensor(elem[0]) for elem in batch],0)\n",
    "    Re  = torch.cat([torch.as_tensor(elem[1]) for elem in batch],0)\n",
    "    mask     = torch.cat([torch.as_tensor(elem[2]) for elem in batch],0)\n",
    "    target   = torch.cat([torch.as_tensor(elem[3]) for elem in batch],0)\n",
    "    \n",
    "    return(x,Re,mask,target)\n",
    "    "
   ]
  },
  {
   "cell_type": "code",
   "execution_count": 104,
   "metadata": {},
   "outputs": [],
   "source": [
    "dloader = DataLoader(TestClass,batch_size = 3,pin_memory = True,collate_fn = new_collate)"
   ]
  },
  {
   "cell_type": "code",
   "execution_count": 105,
   "metadata": {},
   "outputs": [
    {
     "data": {
      "text/plain": [
       "4"
      ]
     },
     "execution_count": 105,
     "metadata": {},
     "output_type": "execute_result"
    }
   ],
   "source": [
    "len(dloader.dataset[0])"
   ]
  },
  {
   "cell_type": "code",
   "execution_count": 106,
   "metadata": {},
   "outputs": [
    {
     "name": "stdout",
     "output_type": "stream",
     "text": [
      "3 (298, 3, 60, 120)\n",
      "3 (298, 3, 60, 120)\n",
      "3 (299, 3, 60, 120)\n",
      "3 (298, 3, 60, 120)\n",
      "3 (299, 3, 60, 120)\n",
      "3 (298, 3, 60, 120)\n"
     ]
    }
   ],
   "source": [
    "for idx,(data) in enumerate(dloader):\n",
    "#     data = torch.utils.data.TensorDataset(data[0],data[1],data[2],data[3])\n",
    "    sub_dloader = DataLoader(data,batch_size = 20,pin_memory = True)\n",
    "    for sub_idx,(sub_data) in enumerate(sub_dloader):\n",
    "        print('creating minibatches')\n",
    "        print(sub_data[0].shape)\n",
    "        \n",
    "    if idx == 5:\n",
    "        break"
   ]
  },
  {
   "cell_type": "code",
   "execution_count": null,
   "metadata": {},
   "outputs": [],
   "source": []
  }
 ],
 "metadata": {
  "kernelspec": {
   "display_name": "Python 3",
   "language": "python",
   "name": "python3"
  },
  "language_info": {
   "codemirror_mode": {
    "name": "ipython",
    "version": 3
   },
   "file_extension": ".py",
   "mimetype": "text/x-python",
   "name": "python",
   "nbconvert_exporter": "python",
   "pygments_lexer": "ipython3",
   "version": "3.6.10"
  }
 },
 "nbformat": 4,
 "nbformat_minor": 4
}
